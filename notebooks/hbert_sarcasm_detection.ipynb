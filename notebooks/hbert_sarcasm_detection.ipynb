{
 "cells": [
  {
   "cell_type": "markdown",
   "id": "127dd785",
   "metadata": {},
   "source": [
    "#### Hierarchical BERT Architecture for Sarcasm Detection"
   ]
  },
  {
   "cell_type": "markdown",
   "id": "614760bf",
   "metadata": {},
   "source": [
    "**Description:**\n",
    "\n",
    "- Here, the paper combined BERT-embeddings along the LSTM & CNN layers. \n",
    "- The model Architecture in paper is also implemented\n",
    "- We used different dataset (sarcasm on reddit) than what is used in the paper\n",
    "- Its a Binary Classification Problem (sarcasti[1] / non-sarcasticc[0])\n",
    "- In Tutorial : Kaggle DS --> API --> Colab, we are doing locally\n"
   ]
  },
  {
   "cell_type": "markdown",
   "id": "661c3f37",
   "metadata": {},
   "source": [
    "### Imports"
   ]
  },
  {
   "cell_type": "code",
   "execution_count": 117,
   "id": "6d7092c6",
   "metadata": {},
   "outputs": [],
   "source": [
    "import pandas as pd\n",
    "import numpy as np\n",
    "import matplotlib.pyplot as plt\n",
    "from transformers import BertTokenizer, TFBartModel\n",
    "from sklearn.model_selection import train_test_split\n",
    "import tensorflow as tf"
   ]
  },
  {
   "cell_type": "markdown",
   "id": "e81f53e4",
   "metadata": {},
   "source": [
    "### Data-Preprocessing"
   ]
  },
  {
   "cell_type": "markdown",
   "id": "3dd510d7",
   "metadata": {},
   "source": [
    "##### Load Dataset"
   ]
  },
  {
   "cell_type": "code",
   "execution_count": 107,
   "id": "8fa582f5",
   "metadata": {},
   "outputs": [],
   "source": [
    "# Loading dataset .csv File\n",
    "df = pd.read_csv(\"..\\datasets\\sarcasm-reddit\\sarcasm_train_balanced.csv\")"
   ]
  },
  {
   "cell_type": "code",
   "execution_count": 108,
   "id": "af47a146",
   "metadata": {},
   "outputs": [
    {
     "data": {
      "text/html": [
       "<div>\n",
       "<style scoped>\n",
       "    .dataframe tbody tr th:only-of-type {\n",
       "        vertical-align: middle;\n",
       "    }\n",
       "\n",
       "    .dataframe tbody tr th {\n",
       "        vertical-align: top;\n",
       "    }\n",
       "\n",
       "    .dataframe thead th {\n",
       "        text-align: right;\n",
       "    }\n",
       "</style>\n",
       "<table border=\"1\" class=\"dataframe\">\n",
       "  <thead>\n",
       "    <tr style=\"text-align: right;\">\n",
       "      <th></th>\n",
       "      <th>label</th>\n",
       "      <th>comment</th>\n",
       "      <th>author</th>\n",
       "      <th>subreddit</th>\n",
       "      <th>score</th>\n",
       "      <th>ups</th>\n",
       "      <th>downs</th>\n",
       "      <th>date</th>\n",
       "      <th>created_utc</th>\n",
       "      <th>parent_comment</th>\n",
       "    </tr>\n",
       "  </thead>\n",
       "  <tbody>\n",
       "    <tr>\n",
       "      <th>0</th>\n",
       "      <td>0</td>\n",
       "      <td>NC and NH.</td>\n",
       "      <td>Trumpbart</td>\n",
       "      <td>politics</td>\n",
       "      <td>2</td>\n",
       "      <td>-1</td>\n",
       "      <td>-1</td>\n",
       "      <td>2016-10</td>\n",
       "      <td>2016-10-16 23:55:23</td>\n",
       "      <td>Yeah, I get that argument. At this point, I'd ...</td>\n",
       "    </tr>\n",
       "    <tr>\n",
       "      <th>1</th>\n",
       "      <td>0</td>\n",
       "      <td>You do know west teams play against west teams...</td>\n",
       "      <td>Shbshb906</td>\n",
       "      <td>nba</td>\n",
       "      <td>-4</td>\n",
       "      <td>-1</td>\n",
       "      <td>-1</td>\n",
       "      <td>2016-11</td>\n",
       "      <td>2016-11-01 00:24:10</td>\n",
       "      <td>The blazers and Mavericks (The wests 5 and 6 s...</td>\n",
       "    </tr>\n",
       "    <tr>\n",
       "      <th>2</th>\n",
       "      <td>0</td>\n",
       "      <td>They were underdogs earlier today, but since G...</td>\n",
       "      <td>Creepeth</td>\n",
       "      <td>nfl</td>\n",
       "      <td>3</td>\n",
       "      <td>3</td>\n",
       "      <td>0</td>\n",
       "      <td>2016-09</td>\n",
       "      <td>2016-09-22 21:45:37</td>\n",
       "      <td>They're favored to win.</td>\n",
       "    </tr>\n",
       "  </tbody>\n",
       "</table>\n",
       "</div>"
      ],
      "text/plain": [
       "   label                                            comment     author  \\\n",
       "0      0                                         NC and NH.  Trumpbart   \n",
       "1      0  You do know west teams play against west teams...  Shbshb906   \n",
       "2      0  They were underdogs earlier today, but since G...   Creepeth   \n",
       "\n",
       "  subreddit  score  ups  downs     date          created_utc  \\\n",
       "0  politics      2   -1     -1  2016-10  2016-10-16 23:55:23   \n",
       "1       nba     -4   -1     -1  2016-11  2016-11-01 00:24:10   \n",
       "2       nfl      3    3      0  2016-09  2016-09-22 21:45:37   \n",
       "\n",
       "                                      parent_comment  \n",
       "0  Yeah, I get that argument. At this point, I'd ...  \n",
       "1  The blazers and Mavericks (The wests 5 and 6 s...  \n",
       "2                            They're favored to win.  "
      ]
     },
     "execution_count": 108,
     "metadata": {},
     "output_type": "execute_result"
    }
   ],
   "source": [
    "df.head(3)"
   ]
  },
  {
   "cell_type": "code",
   "execution_count": 109,
   "id": "e24adf22",
   "metadata": {},
   "outputs": [
    {
     "name": "stdout",
     "output_type": "stream",
     "text": [
      "rows(data-samples) = 1010826 | cols(features) = 10\n"
     ]
    }
   ],
   "source": [
    "# check dataset\n",
    "df.shape # 1010826 rows/data & 10 Features\n",
    "print(f\"rows(data-samples) = {df.shape[0]} | cols(features) = {df.shape[1]}\")"
   ]
  },
  {
   "cell_type": "markdown",
   "id": "d143b622",
   "metadata": {},
   "source": [
    "##### Resize Dimentions"
   ]
  },
  {
   "cell_type": "code",
   "execution_count": 110,
   "id": "572cecbc",
   "metadata": {},
   "outputs": [
    {
     "name": "stdout",
     "output_type": "stream",
     "text": [
      "rows(data-samples) = 30000 | cols(features) = 2\n"
     ]
    }
   ],
   "source": [
    "# We only use columns 'label' & 'comment' & 30000 Rows/data-samples \n",
    "# df = df[:30000] # select first 30,000 Rows\n",
    "df = df.sample(n=30000, random_state=42) # select 30,000 data purely randomly, 42 for reproduibility\n",
    "df = df[['comment','label']]\n",
    "\n",
    "# Check after resizing dimentions\n",
    "print(f\"rows(data-samples) = {df.shape[0]} | cols(features) = {df.shape[1]}\")"
   ]
  },
  {
   "cell_type": "code",
   "execution_count": 111,
   "id": "4f265abc",
   "metadata": {},
   "outputs": [
    {
     "name": "stdout",
     "output_type": "stream",
     "text": [
      "rows(data-samples) = 30000 | cols(features) = 2\n"
     ]
    },
    {
     "data": {
      "text/plain": [
       "comment    0\n",
       "label      0\n",
       "dtype: int64"
      ]
     },
     "execution_count": 111,
     "metadata": {},
     "output_type": "execute_result"
    }
   ],
   "source": [
    "df.isna().sum() # check for null values\n",
    "df.dropna(inplace=True) # drop null values, inplace=True makes it permanent\n",
    "\n",
    "# Check after dropping null values\n",
    "print(f\"rows(data-samples) = {df.shape[0]} | cols(features) = {df.shape[1]}\")\n",
    "df.isna().sum() # check for null values"
   ]
  },
  {
   "cell_type": "markdown",
   "id": "a59ac5a2",
   "metadata": {},
   "source": [
    "##### Analyze Data"
   ]
  },
  {
   "cell_type": "code",
   "execution_count": 112,
   "id": "6ffdfed5",
   "metadata": {},
   "outputs": [
    {
     "data": {
      "image/png": "[encoded data removed]",
      "text/plain": [
       "<Figure size 500x300 with 1 Axes>"
      ]
     },
     "metadata": {},
     "output_type": "display_data"
    }
   ],
   "source": [
    "# Data Analysis & Visualisation\n",
    "label_counts = df[\"label\"].value_counts() # label counting\n",
    "\n",
    "# Plotting\n",
    "plt.figure(figsize=(5, 3))  # width=6 inches, height=4 inches\n",
    "label_counts.plot(kind='bar', color=['skyblue', 'salmon'])\n",
    "plt.title(\"Label Distribution\")\n",
    "plt.xlabel(\"Label\")\n",
    "plt.ylabel(\"Count\")\n",
    "plt.xticks(rotation=0)\n",
    "plt.tight_layout()\n",
    "plt.show()\n",
    "\n",
    "# Data 0 and 1 is balaned now, earlier selecting first 30,000 data was unbalenced"
   ]
  },
  {
   "cell_type": "markdown",
   "id": "33d15ebf",
   "metadata": {},
   "source": [
    "##### Clean Data"
   ]
  },
  {
   "cell_type": "code",
   "execution_count": 113,
   "id": "aa5cc49f",
   "metadata": {},
   "outputs": [],
   "source": [
    "# Data Cleaning \n",
    "# Removes numerals /symbols replace with space, keep chars A-Z & a-z, \n",
    "df[\"comment\"] = df[\"comment\"].str.replace(r'[^a-zA-Z\\s]', '', regex=True) # regex = reg exp lib removes unwanted char\n",
    " \n",
    "# Convert to lowercase\n",
    "def lower_case(text):\n",
    "    return text.lower()\n",
    "\n",
    "df[\"comment\"] = df[\"comment\"].apply(lower_case) # each row of df to lower_case"
   ]
  },
  {
   "cell_type": "code",
   "execution_count": 114,
   "id": "70bb999f",
   "metadata": {},
   "outputs": [
    {
     "data": {
      "text/html": [
       "<div>\n",
       "<style scoped>\n",
       "    .dataframe tbody tr th:only-of-type {\n",
       "        vertical-align: middle;\n",
       "    }\n",
       "\n",
       "    .dataframe tbody tr th {\n",
       "        vertical-align: top;\n",
       "    }\n",
       "\n",
       "    .dataframe thead th {\n",
       "        text-align: right;\n",
       "    }\n",
       "</style>\n",
       "<table border=\"1\" class=\"dataframe\">\n",
       "  <thead>\n",
       "    <tr style=\"text-align: right;\">\n",
       "      <th></th>\n",
       "      <th>comment</th>\n",
       "      <th>label</th>\n",
       "    </tr>\n",
       "  </thead>\n",
       "  <tbody>\n",
       "    <tr>\n",
       "      <th>794745</th>\n",
       "      <td>but we fixed that with bombs and now their sec...</td>\n",
       "      <td>1</td>\n",
       "    </tr>\n",
       "    <tr>\n",
       "      <th>594906</th>\n",
       "      <td>and they promote peaceful cooperation as in syria</td>\n",
       "      <td>1</td>\n",
       "    </tr>\n",
       "    <tr>\n",
       "      <th>819257</th>\n",
       "      <td>i am right handed and my left arm is stronger</td>\n",
       "      <td>0</td>\n",
       "    </tr>\n",
       "  </tbody>\n",
       "</table>\n",
       "</div>"
      ],
      "text/plain": [
       "                                                  comment  label\n",
       "794745  but we fixed that with bombs and now their sec...      1\n",
       "594906  and they promote peaceful cooperation as in syria      1\n",
       "819257      i am right handed and my left arm is stronger      0"
      ]
     },
     "execution_count": 114,
     "metadata": {},
     "output_type": "execute_result"
    }
   ],
   "source": [
    "df.sample(3).head()"
   ]
  },
  {
   "cell_type": "markdown",
   "id": "c6f09e89",
   "metadata": {},
   "source": [
    "### Tokenization"
   ]
  },
  {
   "cell_type": "markdown",
   "id": "aa26c9fd",
   "metadata": {},
   "source": [
    "##### BERT-Tokenizer Model"
   ]
  },
  {
   "cell_type": "code",
   "execution_count": null,
   "id": "c3bc01e4",
   "metadata": {},
   "outputs": [
    {
     "data": {
      "application/vnd.jupyter.widget-view+json": {
       "model_id": "5b2fba6cbf604bd7a0c95747f0c1c3b4",
       "version_major": 2,
       "version_minor": 0
      },
      "text/plain": [
       "tokenizer_config.json:   0%|          | 0.00/48.0 [00:00<?, ?B/s]"
      ]
     },
     "metadata": {},
     "output_type": "display_data"
    },
    {
     "name": "stderr",
     "output_type": "stream",
     "text": [
      "C:\\Users\\alvee\\AppData\\Roaming\\Python\\Python310\\site-packages\\huggingface_hub\\file_download.py:142: UserWarning: `huggingface_hub` cache-system uses symlinks by default to efficiently store duplicated files but your machine does not support them in C:\\Users\\alvee\\.cache\\huggingface\\hub\\models--bert-base-uncased. Caching files will still work but in a degraded version that might require more space on your disk. This warning can be disabled by setting the `HF_HUB_DISABLE_SYMLINKS_WARNING` environment variable. For more details, see https://huggingface.co/docs/huggingface_hub/how-to-cache#limitations.\n",
      "To support symlinks on Windows, you either need to activate Developer Mode or to run Python as an administrator. In order to activate developer mode, see this article: https://docs.microsoft.com/en-us/windows/apps/get-started/enable-your-device-for-development\n",
      "  warnings.warn(message)\n"
     ]
    },
    {
     "data": {
      "application/vnd.jupyter.widget-view+json": {
       "model_id": "5f9340f7a3fe4d779f8e7b2474559b5d",
       "version_major": 2,
       "version_minor": 0
      },
      "text/plain": [
       "vocab.txt:   0%|          | 0.00/232k [00:00<?, ?B/s]"
      ]
     },
     "metadata": {},
     "output_type": "display_data"
    },
    {
     "data": {
      "application/vnd.jupyter.widget-view+json": {
       "model_id": "b2acaced7ed5474eb01ea709f5310ba0",
       "version_major": 2,
       "version_minor": 0
      },
      "text/plain": [
       "tokenizer.json:   0%|          | 0.00/466k [00:00<?, ?B/s]"
      ]
     },
     "metadata": {},
     "output_type": "display_data"
    },
    {
     "data": {
      "application/vnd.jupyter.widget-view+json": {
       "model_id": "36cf76fa044548158c890bd93fa01a4c",
       "version_major": 2,
       "version_minor": 0
      },
      "text/plain": [
       "config.json:   0%|          | 0.00/570 [00:00<?, ?B/s]"
      ]
     },
     "metadata": {},
     "output_type": "display_data"
    }
   ],
   "source": [
    "# importing tokenizer small model 'bert-base-uncased' 12 encoders stacked on each other\n",
    "tokenizer = BertTokenizer.from_pretrained('bert-base-uncased')"
   ]
  },
  {
   "cell_type": "markdown",
   "id": "3538fd4d",
   "metadata": {},
   "source": [
    "##### Data Tokenization "
   ]
  },
  {
   "cell_type": "code",
   "execution_count": 100,
   "id": "5a3bde02",
   "metadata": {},
   "outputs": [],
   "source": [
    "# Tokenization Function\n",
    "def tokenize_data(text, max_length=100):\n",
    "    \"\"\"\n",
    "    Param-Var: \n",
    "        Text    : Every row/data from df['comment']\n",
    "        max_len : Max len of sentence we can take , max_len = no of words in each comment/row \n",
    "    \n",
    "    Return : \n",
    "        tokenizer : where we loaded our pre-trained BERT model 'bert-base-uncased'\n",
    "    \"\"\"\n",
    "    \n",
    "    return tokenizer(\n",
    "        text.tolist(), # converting text/comments to list\n",
    "        max_length = max_length,\n",
    "        truncation = True, # if sentence_len > max_len then truncate extra chars of sent so that sentence_len == max_len then\n",
    "        padding = 'max_length', # if sentence_len < max_len then add extra padding so that sentence_len == max_len then\n",
    "        return_tensors = 'np' # 'tf' wont as as train_test_split requires data in np or df format\n",
    "    ) \n"
   ]
  },
  {
   "cell_type": "code",
   "execution_count": 101,
   "id": "de3f59f2",
   "metadata": {},
   "outputs": [],
   "source": [
    "# tokenizin Data col 'comment'\n",
    "tokenized_data = tokenize_data(df['comment'])"
   ]
  },
  {
   "cell_type": "code",
   "execution_count": 102,
   "id": "68b4eb92",
   "metadata": {},
   "outputs": [
    {
     "data": {
      "text/plain": [
       "{'input_ids': array([[ 101, 1998, 2002, ...,    0,    0,    0],\n",
       "       [ 101, 3524, 2017, ...,    0,    0,    0],\n",
       "       [ 101, 1045, 2812, ...,    0,    0,    0],\n",
       "       ...,\n",
       "       [ 101, 7929, 2469, ...,    0,    0,    0],\n",
       "       [ 101, 2000, 2115, ...,    0,    0,    0],\n",
       "       [ 101, 2061, 2016, ...,    0,    0,    0]]), 'token_type_ids': array([[0, 0, 0, ..., 0, 0, 0],\n",
       "       [0, 0, 0, ..., 0, 0, 0],\n",
       "       [0, 0, 0, ..., 0, 0, 0],\n",
       "       ...,\n",
       "       [0, 0, 0, ..., 0, 0, 0],\n",
       "       [0, 0, 0, ..., 0, 0, 0],\n",
       "       [0, 0, 0, ..., 0, 0, 0]]), 'attention_mask': array([[1, 1, 1, ..., 0, 0, 0],\n",
       "       [1, 1, 1, ..., 0, 0, 0],\n",
       "       [1, 1, 1, ..., 0, 0, 0],\n",
       "       ...,\n",
       "       [1, 1, 1, ..., 0, 0, 0],\n",
       "       [1, 1, 1, ..., 0, 0, 0],\n",
       "       [1, 1, 1, ..., 0, 0, 0]])}"
      ]
     },
     "execution_count": 102,
     "metadata": {},
     "output_type": "execute_result"
    }
   ],
   "source": [
    "# See tokenized data\n",
    "tokenized_data # the 0s are extra padding we added \n",
    "# \"\"\"\n",
    "# --> Two imp features in tokenized_data\n",
    "# --> 1) input_ids & 2) attention_mask\n",
    "# --> attention_mask :  Binary , 0--> tokens not padded, 1--> tokens padded\n",
    "# --> this info is important as we can understand padded info are not of that much value/relavant comparitiely\n",
    "# --> Unpadded Data wont have any unwanted data hence more relavant \n",
    "# \"\"\""
   ]
  },
  {
   "cell_type": "markdown",
   "id": "e7f69658",
   "metadata": {},
   "source": [
    "### Train-Test Split"
   ]
  },
  {
   "cell_type": "code",
   "execution_count": 103,
   "id": "59d36e4a",
   "metadata": {},
   "outputs": [],
   "source": [
    "# X (feature-col/independent-var) tokenized Features , y = Dependent-var (label) raw\n",
    "X = tokenized_data['input_ids'] # X = input data = tokenized_data' input_ids not attn_msk\n",
    "y = df['label'] # y = label from df"
   ]
  },
  {
   "cell_type": "code",
   "execution_count": 104,
   "id": "5fcdbcf3",
   "metadata": {},
   "outputs": [],
   "source": [
    "X_train, X_test , y_train, y_test  = train_test_split(X,y, test_size=0.2, random_state=42)"
   ]
  },
  {
   "cell_type": "code",
   "execution_count": 106,
   "id": "ed745935",
   "metadata": {},
   "outputs": [
    {
     "data": {
      "text/plain": [
       "((24000, 100), (6000, 100))"
      ]
     },
     "execution_count": 106,
     "metadata": {},
     "output_type": "execute_result"
    }
   ],
   "source": [
    "X_train.shape, X_test.shape\n",
    "# ((24000, 100), (6000, 100)) , here 24k 6k means rows , but 100 doenst mean Feature cols, rather it means 100 tokens(words) per sentence as we predefined max_lenght=100 earlier"
   ]
  },
  {
   "cell_type": "markdown",
   "id": "8b606a28",
   "metadata": {},
   "source": [
    "### Build Hierarchical-BERT Model"
   ]
  },
  {
   "cell_type": "markdown",
   "id": "c639ecdf",
   "metadata": {},
   "source": [
    "##### Model Architecture Concept"
   ]
  },
  {
   "cell_type": "markdown",
   "id": "6e40b3bc",
   "metadata": {},
   "source": [
    "- Read and understand the proposed model architecture from the paper.\n",
    "- The model consists of **5 layers**:\n",
    "  1. **(L-1) Sentence Encoding Layer**  \n",
    "     - Encode input data into fixed sized vectors\n",
    "  2. **(L-2) Context Summarization Layer**  \n",
    "     - Convert the indvidual sequence-embeddings from layer-1 to common single-vect\n",
    "     - **Conv1d sentence-summarizer layer** : Paper used Conv2d as their data 1.3B but we use only 30k so we use Conv1d\n",
    "  3. **(L-3) LSTM - Context Encoder Layer**  \n",
    "     - Implement a bi-direc LSTM to capture temporal dependencies from summ-sent layer-2\n",
    "     - Bi-direc LSTM process data in both forward & backward direc, makes capturing v. easy\n",
    "  4. **(L-4) CNN Layer**  \n",
    "     - Extracts local features from encoded context vectors of layer-3\n",
    "     - Try to emphasis significant features relavant to model and \n",
    "     - Give less attn to irrelavant features\n",
    "     - **Kernel-layer**  : We use Conv1d kernels instead of Conv2d, also called cnn-filters\n",
    "     - **Pooling-layer** : Use max pooling to extract imp features\n",
    "  5. **(L-5) FFN / Fully Connected dense-net Layer**  \n",
    "     - Proecess the model to give a final output \n",
    "     - Maps features to final predictions.\n",
    "\n",
    "(L-1) output --> (L-2) output --> (L-3) output --> (L-4) output --> (L-5) output --> predictions"
   ]
  },
  {
   "cell_type": "markdown",
   "id": "e192ff3b",
   "metadata": {},
   "source": [
    "##### Build Model"
   ]
  },
  {
   "cell_type": "code",
   "execution_count": null,
   "id": "50fe039a",
   "metadata": {},
   "outputs": [],
   "source": [
    "# Creating the hbert model architecture according to paper\n",
    "class HeirarchicalBERT(tf.keras.Model):\n",
    "    \n",
    "    def __init__(self, bert_model, lstm_units, cnn_filters, dense_units):\n",
    "        \"\"\"\n",
    "        Param-Var : \n",
    "            bert_model  : Contains the pre-trained bert model from hugging face\n",
    "            lstm_units  : The number of lstm units after conv1d layer\n",
    "            dense_units : The number of nodes in the FFN / FC-layer\n",
    "        \"\"\"\n",
    "        super(HeirarchicalBERT, self).__init__()\n",
    "        self.bert = bert_model\n",
    "        \n",
    "        # 1. (L-1) Sentence Encoding Layer  \n",
    "        self.dense_sentence = tf.keras.layers.Dense(768, activation='relu') # A dense NN, 768 unit/nodes, bert-base has dimen of 768\n",
    "        \n",
    "        # 2. (L-2) Context Summarization Layer  \n",
    "        self.mean_pooling = tf.keras.layers.GlobalAveragePooling1D() # global avg pooling (1D) layer, convert indv inp embedding to a single vector \n",
    "        \n",
    "        # 3. (L-3) LSTM - Context Encoder Layer  \n",
    "        self.bilstm_encoder = tf.keras.layers.Bidirectional(tf.keras.layers.LSTM(lstm_units, return_sequences=True)) # Use bi-directional LSTM, we pass LSTM layer with units to the bi-direc layer\n",
    "        \n",
    "        # 4. (L-4) CNN Layer  \n",
    "        self.conv = tf.keras.layers.Conv1D(cnn_filters=2, activation='relu') #, 1D not 2D, To capture local features\n",
    "        # Pooling-Layer\n",
    "        self.pool = tf.keras.layers.GlobalMaxPool1D()    \n",
    "         \n",
    "        # 5. (L-5) FFN / Fully Connected dense-net Layer\n",
    "        self.dense_df = tf.keras.layers(dense_units, activation = 'relu')\n",
    "        \n",
    "        # Output\n",
    "        self.output_layer = tf.keras.layers.Dense(1, activation='sigmoid') # 1 unit/node as we are working with binary clf , sarcastic or not sarcastic\n",
    "        \n",
    "        \n",
    "        # Forward-Pass\n",
    "        def call(self, inputs):\n",
    "            \"\"\"\n",
    "            Param-Var :\n",
    "                inputs : tokenized data from \"comment\" col\n",
    "\n",
    "            \"\"\"\n",
    "            \n",
    "            # BERT embeddings          \n",
    "            bert_output = self.bert(inputs)[0] # pass input tokens to generate  the BERT embeddings\n",
    "            # (bert_output --> 1> Sentence encoding layer)  \n",
    "            \n",
    "            # 1> Sentence encoding layer  \n",
    "            sentence_encoded = self.dense_sentence(bert_output)\n",
    "            # (sentence_encoded --> 2> Context Summarization Layer)\n",
    "\n",
    "            # 2> Context Summarization Layer \n",
    "            context_summarized = self.mean_pooling(sentence_encoded)\n",
    "            # (context_summarized --> expand_dimen)\n",
    "            \n",
    "            #### Expand Dimentions - Req for LSTM is batch size & timestep\n",
    "            context_summarized = tf.expand_dims(context_summarized, 1) # every 1 time step it will gen 768 dimen single vect\n",
    "            # (expand_dimen(context_summarized) --> 3> LSTM - Context Encoder Layer)\n",
    "            \n",
    "            # 3> LSTM - Context Encoder Layer \n",
    "            context_encoded = tf.bilstm_encode(context_summarized)\n",
    "            # (context_encoded --> squeeze Dimen)\n",
    "            \n",
    "            #### Squeeze Dimentions - LSTM Done so squeeze/reduce the expanded dimen\n",
    "            context_encoded_squeezed =  tf.squeeze(context_encoded, axis=1) # 1 = col\n",
    "            # (context_encoded_squeezed --> channel-dimen)\n",
    "            \n",
    "            #### Adding Channel-Dimen to match required input shape by conv layer\n",
    "            context_encoded_expanded = tf.expand_dims(context_encoded_squeezed, axis=-1)\n",
    "            # (channel-dimen (context_encoded_expanded) --> 4> CNN layer) \n",
    "            \n",
    "            # 4> CNN Layer \n",
    "            conv_output  = self.conv(context_encoded_expanded)\n",
    "            pooled_output = self.pool(conv_output)\n",
    "            # (pooled_output --> 5> CNN Layer)\n",
    "            \n",
    "            # 5> FFN / Fully Connected dense-net Layer\n",
    "            dense_output = self.dense_df(pooled_output)\n",
    "            \n",
    "            # Final output-layer\n",
    "            final_output = self.output_layer(dense_output)\n",
    "            \n",
    "            return final_output\n",
    "        \n",
    "            "
   ]
  }
 ],
 "metadata": {
  "kernelspec": {
   "display_name": "Python 3",
   "language": "python",
   "name": "python3"
  },
  "language_info": {
   "codemirror_mode": {
    "name": "ipython",
    "version": 3
   },
   "file_extension": ".py",
   "mimetype": "text/x-python",
   "name": "python",
   "nbconvert_exporter": "python",
   "pygments_lexer": "ipython3",
   "version": "3.10.11"
  }
 },
 "nbformat": 4,
 "nbformat_minor": 5
}
