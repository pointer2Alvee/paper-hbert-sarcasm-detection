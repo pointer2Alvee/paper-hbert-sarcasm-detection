{
 "cells": [
  {
   "cell_type": "markdown",
   "id": "127dd785",
   "metadata": {},
   "source": [
    "#### Hierarchical BERT Architecture for Sarcasm Detection"
   ]
  },
  {
   "cell_type": "markdown",
   "id": "614760bf",
   "metadata": {},
   "source": [
    "<p style=\"font-size: 13px;\">\n",
    "Your content here\n",
    "\n",
    "\n",
    "</p>"
   ]
  }
 ],
 "metadata": {
  "language_info": {
   "name": "python"
  }
 },
 "nbformat": 4,
 "nbformat_minor": 5
}
